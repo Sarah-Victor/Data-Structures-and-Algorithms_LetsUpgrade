{
  "nbformat": 4,
  "nbformat_minor": 0,
  "metadata": {
    "colab": {
      "name": "Assignment_Day7.ipynb",
      "provenance": [],
      "collapsed_sections": [],
      "authorship_tag": "ABX9TyOyxJ/OD1keszmTClspwJba",
      "include_colab_link": true
    },
    "kernelspec": {
      "name": "python3",
      "display_name": "Python 3"
    }
  },
  "cells": [
    {
      "cell_type": "markdown",
      "metadata": {
        "id": "view-in-github",
        "colab_type": "text"
      },
      "source": [
        "<a href=\"https://colab.research.google.com/github/Sarah-Victor/Data-Structures-and-Algorithms_LetsUpgrade/blob/main/Assignment_Day7.ipynb\" target=\"_parent\"><img src=\"https://colab.research.google.com/assets/colab-badge.svg\" alt=\"Open In Colab\"/></a>"
      ]
    },
    {
      "cell_type": "markdown",
      "metadata": {
        "id": "6rIGhjkzgAe5"
      },
      "source": [
        "#Implement dequeue operation in the queue"
      ]
    },
    {
      "cell_type": "code",
      "metadata": {
        "colab": {
          "base_uri": "https://localhost:8080/"
        },
        "id": "ETnTJdsAftR6",
        "outputId": "cb108df8-5b3d-46d9-e9de-73baa2e2a55e"
      },
      "source": [
        "class Queue:\r\n",
        "\t    def __init__(self):\r\n",
        "\t        self.items = []\r\n",
        "\t\r\n",
        "\t    def isEmpty(self):\r\n",
        "\t        return self.items == []\r\n",
        "\t\r\n",
        "\t    def enqueue(self, item):\r\n",
        "\t        self.items.insert(0,item)\r\n",
        "\t\r\n",
        "\t    def dequeue(self):\r\n",
        "\t        return self.items.pop()\r\n",
        "\t\r\n",
        "\t    def size(self):\r\n",
        "\t        return len(self.items)\r\n",
        "\t\r\n",
        "q=Queue()\r\n",
        "\t\r\n",
        "q.enqueue(4) #4 is added to the queue\r\n",
        "q.enqueue('dog') #dog has been added next\r\n",
        "q.enqueue(8.4) #8.4 is added\r\n",
        "print(q.size()) #size is printed 3\r\n",
        "q.dequeue() #deletes the first element 4\r\n",
        "q.dequeue() #deletes the second element dog\r\n",
        "print(q.size()) #prints the size 1 as in only one element is left in queue"
      ],
      "execution_count": null,
      "outputs": [
        {
          "output_type": "stream",
          "text": [
            "3\n",
            "1\n"
          ],
          "name": "stdout"
        }
      ]
    },
    {
      "cell_type": "markdown",
      "metadata": {
        "id": "Dtz5flA_icM_"
      },
      "source": [
        "#Implement Pop operation in the stack\r\n"
      ]
    },
    {
      "cell_type": "code",
      "metadata": {
        "colab": {
          "base_uri": "https://localhost:8080/"
        },
        "id": "wSD3VNrJit4-",
        "outputId": "f96d5f81-0ac8-4b4e-bec9-3494c91dfaf9"
      },
      "source": [
        "stack = []\r\n",
        " \r\n",
        "stack.append('a')\r\n",
        "stack.append('b')\r\n",
        "\r\n",
        " \r\n",
        "print('Initial stack')\r\n",
        "print(stack)\r\n",
        "print('\\nElements poped from stack:')\r\n",
        "\r\n",
        "print(stack.pop())\r\n",
        " \r\n",
        "print('\\nStack after elements are poped:')\r\n",
        "print(stack)\r\n"
      ],
      "execution_count": null,
      "outputs": [
        {
          "output_type": "stream",
          "text": [
            "Initial stack\n",
            "['a', 'b']\n",
            "\n",
            "Elements poped from stack:\n",
            "b\n",
            "\n",
            "Stack after elements are poped:\n",
            "['a']\n"
          ],
          "name": "stdout"
        }
      ]
    },
    {
      "cell_type": "markdown",
      "metadata": {
        "id": "hNn75qldi68i"
      },
      "source": [
        "##A Barua number is a number that consists of only zeroes and ones and has only one 1. Barua’s number will start with 1. Given numbers, find out the multiplication of the numbers. Note: The input may contain one decimal number and all other Barua numbers. (Assume that each number is very large and the total number of values give is also very large)"
      ]
    },
    {
      "cell_type": "markdown",
      "metadata": {
        "id": "zWLF91fhIE_-"
      },
      "source": [
        ""
      ]
    }
  ]
}