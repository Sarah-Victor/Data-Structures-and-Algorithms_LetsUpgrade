{
  "nbformat": 4,
  "nbformat_minor": 0,
  "metadata": {
    "colab": {
      "name": "Assignment5.ipynb",
      "provenance": [],
      "authorship_tag": "ABX9TyMqtp7+n3AJ3g8BzCx2NJGw",
      "include_colab_link": true
    },
    "kernelspec": {
      "name": "python3",
      "display_name": "Python 3"
    }
  },
  "cells": [
    {
      "cell_type": "markdown",
      "metadata": {
        "id": "view-in-github",
        "colab_type": "text"
      },
      "source": [
        "<a href=\"https://colab.research.google.com/github/Sarah-Victor/Data-Structures-and-Algorithms_LetsUpgrade/blob/main/DSAssignment_5.ipynb\" target=\"_parent\"><img src=\"https://colab.research.google.com/assets/colab-badge.svg\" alt=\"Open In Colab\"/></a>"
      ]
    },
    {
      "cell_type": "markdown",
      "metadata": {
        "id": "GV6AY-JraNA9"
      },
      "source": [
        "#Define a function swap that should swap two values and print the swapped variables outside the swap function."
      ]
    },
    {
      "cell_type": "code",
      "metadata": {
        "colab": {
          "base_uri": "https://localhost:8080/"
        },
        "id": "sjKsK2cDaKdi",
        "outputId": "0414f86b-b3f5-427e-eb85-4f0e89b2ebd1"
      },
      "source": [
        "def swap(s1, s2):\r\n",
        "    return s2, s1\r\n",
        "\r\n",
        "s1 = '5'\r\n",
        "s2 = '9'\r\n",
        "s1, s2 = swap(s1, s2)\r\n",
        "print (\"s1 =\",s1,\"s2 =\",s2) # prints '5 7'"
      ],
      "execution_count": 7,
      "outputs": [
        {
          "output_type": "stream",
          "text": [
            "s1 = 9 s2 = 5\n"
          ],
          "name": "stdout"
        }
      ]
    },
    {
      "cell_type": "markdown",
      "metadata": {
        "id": "QEKImdZgarDi"
      },
      "source": [
        "#Perform insert at end operation in the linked list"
      ]
    },
    {
      "cell_type": "code",
      "metadata": {
        "colab": {
          "base_uri": "https://localhost:8080/"
        },
        "id": "p1WmAbAPauPt",
        "outputId": "7a992172-dbdd-4900-e509-9e51410b629b"
      },
      "source": [
        "#Represent a node of the singly linked list\r\n",
        "class Node:  \r\n",
        "    def __init__(self,data):  \r\n",
        "        self.data = data;  \r\n",
        "        self.next = None;  \r\n",
        "          \r\n",
        "class InsertEnd:  \r\n",
        "    #Represent the head and tail of the singly linked list  \r\n",
        "    def __init__(self):  \r\n",
        "        self.head = None;  \r\n",
        "        self.tail = None;  \r\n",
        "          \r\n",
        "    #addAtEnd() will add a new node to the end of the list  \r\n",
        "    def addAtEnd(self, data):  \r\n",
        "        #Create a new node  \r\n",
        "        newNode = Node(data);  \r\n",
        "          \r\n",
        "        #Checks if the list is empty  \r\n",
        "        if(self.head == None):  \r\n",
        "            #If list is empty, both head and tail will point to new node  \r\n",
        "            self.head = newNode;  \r\n",
        "            self.tail = newNode;  \r\n",
        "        else:  \r\n",
        "            #newNode will be added after tail such that tail's next will point to newNode  \r\n",
        "            self.tail.next = newNode;  \r\n",
        "            #newNode will become new tail of the list  \r\n",
        "            self.tail = newNode;  \r\n",
        "              \r\n",
        "    #display() will display all the nodes present in the list  \r\n",
        "    def display(self):  \r\n",
        "        #Node current will point to head  \r\n",
        "        current = self.head;  \r\n",
        "          \r\n",
        "        if(self.head == None):  \r\n",
        "            print(\"List is empty\");  \r\n",
        "            return;  \r\n",
        "              \r\n",
        "        print(\"Adding nodes to the end of the list: \");  \r\n",
        "        while(current != None):  \r\n",
        "            #Prints each node by incrementing pointer  \r\n",
        "            print(current.data)  \r\n",
        "            current = current.next;  \r\n",
        "   \r\n",
        "sList = InsertEnd();  \r\n",
        "          \r\n",
        "#Adding 1 to the list  \r\n",
        "sList.addAtEnd(1);  \r\n",
        "sList.display();  \r\n",
        "   \r\n",
        "#Adding 2 to the list  \r\n",
        "sList.addAtEnd(2);  \r\n",
        "sList.display();  \r\n",
        "   \r\n",
        "#Adding 3 to the list  \r\n",
        "sList.addAtEnd(3);  \r\n",
        "sList.display();  \r\n",
        "   \r\n",
        "#Adding 4 to the list  \r\n",
        "sList.addAtEnd(4);  \r\n",
        "sList.display();  "
      ],
      "execution_count": 13,
      "outputs": [
        {
          "output_type": "stream",
          "text": [
            "Adding nodes to the end of the list: \n",
            "1\n",
            "Adding nodes to the end of the list: \n",
            "1\n",
            "2\n",
            "Adding nodes to the end of the list: \n",
            "1\n",
            "2\n",
            "3\n",
            "Adding nodes to the end of the list: \n",
            "1\n",
            "2\n",
            "3\n",
            "4\n"
          ],
          "name": "stdout"
        }
      ]
    }
  ]
}