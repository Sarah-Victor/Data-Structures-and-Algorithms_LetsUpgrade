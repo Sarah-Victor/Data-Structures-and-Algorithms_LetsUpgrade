{
  "nbformat": 4,
  "nbformat_minor": 0,
  "metadata": {
    "colab": {
      "name": "DSAssignment_4.ipynb",
      "provenance": [],
      "authorship_tag": "ABX9TyPbndps0tTwERM9RrJK9Ngw",
      "include_colab_link": true
    },
    "kernelspec": {
      "name": "python3",
      "display_name": "Python 3"
    }
  },
  "cells": [
    {
      "cell_type": "markdown",
      "metadata": {
        "id": "view-in-github",
        "colab_type": "text"
      },
      "source": [
        "<a href=\"https://colab.research.google.com/github/Sarah-Victor/Data-Structures-and-Algorithms_LetsUpgrade/blob/main/DSAssignment_Day4.ipynb\" target=\"_parent\"><img src=\"https://colab.research.google.com/assets/colab-badge.svg\" alt=\"Open In Colab\"/></a>"
      ]
    },
    {
      "cell_type": "markdown",
      "metadata": {
        "id": "tdAIl2TgHvaL"
      },
      "source": [
        "#Write a program to print the following pattern\r\n",
        "1\r\n",
        "\r\n",
        "22\r\n",
        "\r\n",
        "333\r\n",
        "\r\n",
        "4444\r\n",
        "\r\n",
        "55555 in python\r\n"
      ]
    },
    {
      "cell_type": "code",
      "metadata": {
        "colab": {
          "base_uri": "https://localhost:8080/"
        },
        "id": "TyEDSRpXH7EF",
        "outputId": "9203bcf5-9590-464f-8b84-41a1af6ccfb6"
      },
      "source": [
        "n = int(input(\"Enter number of rows: \"))\r\n",
        "\r\n",
        "for i in range(1,n+1):\r\n",
        "  for j in range(1, i+1): \r\n",
        "    print(i, end=\"\") \r\n",
        "  print()"
      ],
      "execution_count": 1,
      "outputs": [
        {
          "output_type": "stream",
          "text": [
            "Enter number of rows: 5\n",
            "1\n",
            "22\n",
            "333\n",
            "4444\n",
            "55555\n"
          ],
          "name": "stdout"
        }
      ]
    }
  ]
}