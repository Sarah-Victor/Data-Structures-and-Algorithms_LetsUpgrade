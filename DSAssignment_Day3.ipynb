{
  "nbformat": 4,
  "nbformat_minor": 0,
  "metadata": {
    "colab": {
      "name": "DSAssignment3.ipynb",
      "provenance": [],
      "authorship_tag": "ABX9TyMmfAme9S87c3luGfXA3Fef",
      "include_colab_link": true
    },
    "kernelspec": {
      "name": "python3",
      "display_name": "Python 3"
    }
  },
  "cells": [
    {
      "cell_type": "markdown",
      "metadata": {
        "id": "view-in-github",
        "colab_type": "text"
      },
      "source": [
        "<a href=\"https://colab.research.google.com/github/Sarah-Victor/Data-Structures-and-Algorithms_LetsUpgrade/blob/main/DSAssignment_Day3.ipynb\" target=\"_parent\"><img src=\"https://colab.research.google.com/assets/colab-badge.svg\" alt=\"Open In Colab\"/></a>"
      ]
    },
    {
      "cell_type": "markdown",
      "metadata": {
        "id": "W08aeHfzGKSU"
      },
      "source": [
        "#Create an Array in python using the list and perform delete from any position operation"
      ]
    },
    {
      "cell_type": "code",
      "metadata": {
        "colab": {
          "base_uri": "https://localhost:8080/"
        },
        "id": "QUhDh9mFFz15",
        "outputId": "85e1abad-0ccf-42c4-94d8-331cfe59104d"
      },
      "source": [
        "arr = [12, 150, 23, 34, 25] \r\n",
        "key = 23\r\n",
        "\r\n",
        "print(\"Array before deletion:\") \r\n",
        "print(arr) \r\n",
        "   \r\n",
        "# deletes key if found in the array  \r\n",
        "# otherwise shows error not in list \r\n",
        "\r\n",
        "arr.remove(key) \r\n",
        "print(\"Array after deletion\") \r\n",
        "print(arr) \r\n",
        "   "
      ],
      "execution_count": 2,
      "outputs": [
        {
          "output_type": "stream",
          "text": [
            "Array before deletion:\n",
            "[12, 150, 23, 34, 25]\n",
            "Array after deletion\n",
            "[12, 150, 34, 25]\n"
          ],
          "name": "stdout"
        }
      ]
    }
  ]
}