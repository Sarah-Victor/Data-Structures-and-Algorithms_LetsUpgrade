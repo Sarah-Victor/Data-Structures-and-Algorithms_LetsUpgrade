{
  "nbformat": 4,
  "nbformat_minor": 0,
  "metadata": {
    "colab": {
      "name": "DSAssignment2.ipynb",
      "provenance": [],
      "authorship_tag": "ABX9TyO1B+r1oKxnL18hA7I8TkZA",
      "include_colab_link": true
    },
    "kernelspec": {
      "name": "python3",
      "display_name": "Python 3"
    }
  },
  "cells": [
    {
      "cell_type": "markdown",
      "metadata": {
        "id": "view-in-github",
        "colab_type": "text"
      },
      "source": [
        "<a href=\"https://colab.research.google.com/github/Sarah-Victor/Data-Structures-and-Algorithms_LetsUpgrade/blob/main/DSAssignment_2.ipynb\" target=\"_parent\"><img src=\"https://colab.research.google.com/assets/colab-badge.svg\" alt=\"Open In Colab\"/></a>"
      ]
    },
    {
      "cell_type": "markdown",
      "metadata": {
        "id": "s5lc8nZ9CRC0"
      },
      "source": [
        "#Data Structures and Algorithms \r\n",
        "LetsUpgrade Assignment Day 2"
      ]
    },
    {
      "cell_type": "markdown",
      "metadata": {
        "id": "QBhLCDxSDLnv"
      },
      "source": [
        "#What is the time, space complexity of following code:\r\n"
      ]
    },
    {
      "cell_type": "code",
      "metadata": {
        "id": "rvhEtvgQCZCg"
      },
      "source": [
        "int a = 0, b = 0;\r\n",
        "for (i = 0; i < N; i++) {\r\n",
        "a = a + 1;\r\n",
        "}\r\n",
        "for (j = 0; j < M; j++) {\r\n",
        "b = b + j;\r\n",
        "}\r\n",
        "\r\n",
        "#Time Complexity: O(n + m)\r\n",
        "#Space Complexity: O(1)"
      ],
      "execution_count": null,
      "outputs": []
    },
    {
      "cell_type": "markdown",
      "metadata": {
        "id": "oNbZoGRHC6Uy"
      },
      "source": [
        "#What does it mean when we say that an algorithm X is asymptotically more efficient than Y?\r\n",
        "\r\n",
        "a)X will be a better choice for all inputs\r\n",
        "\r\n",
        "**b)X will be a better choice for all inputs except possibly small inputs**\r\n",
        "\r\n",
        "c)X will be a better choice for all inputs except possibly large inputs\r\n",
        "\r\n",
        "d)Y will be a better choice for small inputs"
      ]
    }
  ]
}