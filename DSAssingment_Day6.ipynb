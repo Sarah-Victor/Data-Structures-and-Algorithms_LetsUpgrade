{
  "nbformat": 4,
  "nbformat_minor": 0,
  "metadata": {
    "colab": {
      "name": "DSAssingment 6.ipynb",
      "provenance": [],
      "authorship_tag": "ABX9TyOLjc18TTUiQayxMM3ytTYS",
      "include_colab_link": true
    },
    "kernelspec": {
      "name": "python3",
      "display_name": "Python 3"
    }
  },
  "cells": [
    {
      "cell_type": "markdown",
      "metadata": {
        "id": "view-in-github",
        "colab_type": "text"
      },
      "source": [
        "<a href=\"https://colab.research.google.com/github/Sarah-Victor/Data-Structures-and-Algorithms_LetsUpgrade/blob/main/DSAssingment_Day6.ipynb\" target=\"_parent\"><img src=\"https://colab.research.google.com/assets/colab-badge.svg\" alt=\"Open In Colab\"/></a>"
      ]
    },
    {
      "cell_type": "markdown",
      "metadata": {
        "id": "fZWMbAX6d9S2"
      },
      "source": [
        "#Perform Selection sort using function in python."
      ]
    },
    {
      "cell_type": "code",
      "metadata": {
        "colab": {
          "base_uri": "https://localhost:8080/"
        },
        "id": "wSakSbrud7fb",
        "outputId": "832bc61a-131e-4c40-d7da-be8160edf487"
      },
      "source": [
        "def selectionSort(array, size):\r\n",
        "   \r\n",
        "    for step in range(size):\r\n",
        "        min_idx = step\r\n",
        "\r\n",
        "        for i in range(step + 1, size):\r\n",
        "         \r\n",
        "            # to sort in descending order, change > to < in this line\r\n",
        "            # select the minimum element in each loop\r\n",
        "            if array[i] < array[min_idx]:\r\n",
        "                min_idx = i\r\n",
        "         \r\n",
        "        # put min at the correct position\r\n",
        "        (array[step], array[min_idx]) = (array[min_idx], array[step])\r\n",
        "\r\n",
        "\r\n",
        "data = [-2, 45, 0, 11, -9]\r\n",
        "size = len(data)\r\n",
        "selectionSort(data, size)\r\n",
        "print('Sorted Array in Ascending Order:')\r\n",
        "print(data)"
      ],
      "execution_count": 1,
      "outputs": [
        {
          "output_type": "stream",
          "text": [
            "Sorted Array in Ascending Order:\n",
            "[-9, -2, 0, 11, 45]\n"
          ],
          "name": "stdout"
        }
      ]
    },
    {
      "cell_type": "markdown",
      "metadata": {
        "id": "wbMfUCpjeLKc"
      },
      "source": [
        "#Perform Insertion sort using function in python."
      ]
    },
    {
      "cell_type": "code",
      "metadata": {
        "colab": {
          "base_uri": "https://localhost:8080/"
        },
        "id": "QUR1BgBseOda",
        "outputId": "0c974a26-9ab3-4483-bb92-bab1d3f093f6"
      },
      "source": [
        "def insertionSort(array):\r\n",
        "\r\n",
        "    for step in range(1, len(array)):\r\n",
        "        key = array[step]\r\n",
        "        j = step - 1\r\n",
        "    \r\n",
        "        while j >= 0 and key < array[j]:\r\n",
        "            array[j + 1] = array[j]\r\n",
        "            j = j - 1\r\n",
        "        \r\n",
        "        # Place key at after the element just smaller than it.\r\n",
        "        array[j + 1] = key\r\n",
        "\r\n",
        "\r\n",
        "data = [9, 5, 1, 4, 3]\r\n",
        "insertionSort(data)\r\n",
        "print('Sorted Array in Ascending Order:')\r\n",
        "print(data)"
      ],
      "execution_count": 3,
      "outputs": [
        {
          "output_type": "stream",
          "text": [
            "Sorted Array in Ascending Order:\n",
            "[1, 3, 4, 5, 9]\n"
          ],
          "name": "stdout"
        }
      ]
    }
  ]
}