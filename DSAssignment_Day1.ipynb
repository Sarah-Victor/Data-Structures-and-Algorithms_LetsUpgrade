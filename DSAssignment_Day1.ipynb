{
  "nbformat": 4,
  "nbformat_minor": 0,
  "metadata": {
    "colab": {
      "name": "Copy of DSAssignment 1.ipynb",
      "provenance": [],
      "authorship_tag": "ABX9TyN8s3+xjh39zXyvMhi+Gsm9",
      "include_colab_link": true
    },
    "kernelspec": {
      "name": "python3",
      "display_name": "Python 3"
    }
  },
  "cells": [
    {
      "cell_type": "markdown",
      "metadata": {
        "id": "view-in-github",
        "colab_type": "text"
      },
      "source": [
        "<a href=\"https://colab.research.google.com/github/Sarah-Victor/Data-Structures-and-Algorithms_LetsUpgrade/blob/main/DSAssignment_Day1.ipynb\" target=\"_parent\"><img src=\"https://colab.research.google.com/assets/colab-badge.svg\" alt=\"Open In Colab\"/></a>"
      ]
    },
    {
      "cell_type": "markdown",
      "metadata": {
        "id": "CaWXzS87_wwP"
      },
      "source": [
        "#Data Structures and Algorithms Assignment Day-1"
      ]
    },
    {
      "cell_type": "markdown",
      "metadata": {
        "id": "n6-3wj0v_LFz"
      },
      "source": [
        "#Question 1\r\n",
        "Write a python program that takes two numbers as the input and print the result of Addition,Subtraction, Multiplication, Division of the two numbers"
      ]
    },
    {
      "cell_type": "code",
      "metadata": {
        "colab": {
          "base_uri": "https://localhost:8080/"
        },
        "id": "wQy_61Vs_G83",
        "outputId": "4f777371-17e7-4926-a817-883469e1448b"
      },
      "source": [
        "x = int(input(\"Enter any no - \"))\r\n",
        "y = int(input(\"Enter any no - \"))\r\n",
        "print(x+y)\r\n",
        "print(x-y)\r\n",
        "print(x*y)\r\n",
        "print(x/y)"
      ],
      "execution_count": null,
      "outputs": [
        {
          "output_type": "stream",
          "text": [
            "Enter any no - 10\n",
            "Enter any no - 5\n",
            "15\n",
            "5\n",
            "50\n",
            "2.0\n"
          ],
          "name": "stdout"
        }
      ]
    },
    {
      "cell_type": "markdown",
      "metadata": {
        "id": "0AMAN3xo_enu"
      },
      "source": [
        "#Question 2\r\n",
        "Write a python program that takes two numbers as the input such as X and Y and print the result of X^Y(X to the power of Y)."
      ]
    },
    {
      "cell_type": "code",
      "metadata": {
        "colab": {
          "base_uri": "https://localhost:8080/"
        },
        "id": "hHFX2Jwo_a9G",
        "outputId": "3a95d3d9-c735-423d-e455-39fc2049bb15"
      },
      "source": [
        "ax = int(input(\"Enter any no - \"))\r\n",
        "by = int(input(\"Enter any no - \"))\r\n",
        "\r\n",
        "print(ax**by)"
      ],
      "execution_count": null,
      "outputs": [
        {
          "output_type": "stream",
          "text": [
            "Enter any no - 5\n",
            "Enter any no - 2\n",
            "25\n"
          ],
          "name": "stdout"
        }
      ]
    }
  ]
}